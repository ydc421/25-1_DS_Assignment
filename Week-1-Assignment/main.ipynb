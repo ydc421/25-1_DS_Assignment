{
 "cells": [
  {
   "cell_type": "code",
   "execution_count": 1,
   "metadata": {},
   "outputs": [],
   "source": [
    "import torch\n",
    "import torch.nn as nn\n",
    "import torch.optim as optim"
   ]
  },
  {
   "cell_type": "code",
   "execution_count": 2,
   "metadata": {},
   "outputs": [
    {
     "name": "stdout",
     "output_type": "stream",
     "text": [
      "/Users/jaebincheong/YBIGTA/25-1_sessions/Week1/25-1-DS-Week-1-Assignment\n"
     ]
    }
   ],
   "source": [
    "#로컬 모듈 import\n",
    "import sys\n",
    "import os\n",
    "print(os.getcwd())\n",
    "# 모듈 경로를 sys.path에 추가\n",
    "module_path = os.path.abspath(os.path.join('..', 'my_transformer'))\n",
    "if module_path not in sys.path:\n",
    "    sys.path.append(module_path)\n",
    "from my_transformer.my_transformer import Transformer"
   ]
  },
  {
   "cell_type": "code",
   "execution_count": 3,
   "metadata": {},
   "outputs": [
    {
     "name": "stderr",
     "output_type": "stream",
     "text": [
      "\u001b[34m\u001b[1mwandb\u001b[0m: Using wandb-core as the SDK backend.  Please refer to https://wandb.me/wandb-core for more information.\n",
      "\u001b[34m\u001b[1mwandb\u001b[0m: Currently logged in as: \u001b[33mjaebincheong\u001b[0m (\u001b[33mjaebincheong-yonsei-university\u001b[0m) to \u001b[32mhttps://api.wandb.ai\u001b[0m. Use \u001b[1m`wandb login --relogin`\u001b[0m to force relogin\n"
     ]
    },
    {
     "data": {
      "text/html": [
       "Tracking run with wandb version 0.19.8"
      ],
      "text/plain": [
       "<IPython.core.display.HTML object>"
      ]
     },
     "metadata": {},
     "output_type": "display_data"
    },
    {
     "data": {
      "text/html": [
       "Run data is saved locally in <code>/Users/jaebincheong/YBIGTA/25-1_sessions/Week1/25-1-DS-Week-1-Assignment/wandb/run-20250317_200147-zzh0by1f</code>"
      ],
      "text/plain": [
       "<IPython.core.display.HTML object>"
      ]
     },
     "metadata": {},
     "output_type": "display_data"
    },
    {
     "data": {
      "text/html": [
       "Syncing run <strong><a href='https://wandb.ai/jaebincheong-yonsei-university/transformer/runs/zzh0by1f' target=\"_blank\">dauntless-galaxy-14</a></strong> to <a href='https://wandb.ai/jaebincheong-yonsei-university/transformer' target=\"_blank\">Weights & Biases</a> (<a href='https://wandb.me/developer-guide' target=\"_blank\">docs</a>)<br>"
      ],
      "text/plain": [
       "<IPython.core.display.HTML object>"
      ]
     },
     "metadata": {},
     "output_type": "display_data"
    },
    {
     "data": {
      "text/html": [
       " View project at <a href='https://wandb.ai/jaebincheong-yonsei-university/transformer' target=\"_blank\">https://wandb.ai/jaebincheong-yonsei-university/transformer</a>"
      ],
      "text/plain": [
       "<IPython.core.display.HTML object>"
      ]
     },
     "metadata": {},
     "output_type": "display_data"
    },
    {
     "data": {
      "text/html": [
       " View run at <a href='https://wandb.ai/jaebincheong-yonsei-university/transformer/runs/zzh0by1f' target=\"_blank\">https://wandb.ai/jaebincheong-yonsei-university/transformer/runs/zzh0by1f</a>"
      ],
      "text/plain": [
       "<IPython.core.display.HTML object>"
      ]
     },
     "metadata": {},
     "output_type": "display_data"
    },
    {
     "name": "stdout",
     "output_type": "stream",
     "text": [
      "Epoch 1/50, Loss: 5.0531\n",
      "Epoch 2/50, Loss: 4.6568\n",
      "Epoch 3/50, Loss: 4.3546\n",
      "Epoch 4/50, Loss: 3.9801\n",
      "Epoch 5/50, Loss: 3.6554\n",
      "Epoch 6/50, Loss: 3.3947\n",
      "Epoch 7/50, Loss: 3.1616\n",
      "Epoch 8/50, Loss: 2.9452\n",
      "Epoch 9/50, Loss: 2.7599\n",
      "Epoch 10/50, Loss: 2.5791\n",
      "Epoch 11/50, Loss: 2.4056\n",
      "Epoch 12/50, Loss: 2.2454\n",
      "Epoch 13/50, Loss: 2.1100\n",
      "Epoch 14/50, Loss: 1.9601\n",
      "Epoch 15/50, Loss: 1.8445\n",
      "Epoch 16/50, Loss: 1.7284\n",
      "Epoch 17/50, Loss: 1.5982\n",
      "Epoch 18/50, Loss: 1.4916\n",
      "Epoch 19/50, Loss: 1.3846\n",
      "Epoch 20/50, Loss: 1.2983\n",
      "Epoch 21/50, Loss: 1.1968\n",
      "Epoch 22/50, Loss: 1.1281\n",
      "Epoch 23/50, Loss: 1.0616\n",
      "Epoch 24/50, Loss: 0.9893\n",
      "Epoch 25/50, Loss: 0.9223\n",
      "Epoch 26/50, Loss: 0.8599\n",
      "Epoch 27/50, Loss: 0.8197\n",
      "Epoch 28/50, Loss: 0.7575\n",
      "Epoch 29/50, Loss: 0.7126\n",
      "Epoch 30/50, Loss: 0.6630\n",
      "Epoch 31/50, Loss: 0.6250\n",
      "Epoch 32/50, Loss: 0.5915\n",
      "Epoch 33/50, Loss: 0.5510\n",
      "Epoch 34/50, Loss: 0.5198\n",
      "Epoch 35/50, Loss: 0.4895\n",
      "Epoch 36/50, Loss: 0.4658\n",
      "Epoch 37/50, Loss: 0.4313\n",
      "Epoch 38/50, Loss: 0.4133\n",
      "Epoch 39/50, Loss: 0.3939\n",
      "Epoch 40/50, Loss: 0.3727\n",
      "Epoch 41/50, Loss: 0.3491\n",
      "Epoch 42/50, Loss: 0.3359\n",
      "Epoch 43/50, Loss: 0.3157\n",
      "Epoch 44/50, Loss: 0.2992\n",
      "Epoch 45/50, Loss: 0.2865\n",
      "Epoch 46/50, Loss: 0.2716\n",
      "Epoch 47/50, Loss: 0.2606\n",
      "Epoch 48/50, Loss: 0.2505\n",
      "Epoch 49/50, Loss: 0.2364\n",
      "Epoch 50/50, Loss: 0.2235\n"
     ]
    }
   ],
   "source": [
    "import torch\n",
    "import torch.nn as nn\n",
    "import torch.optim as optim\n",
    "from torch.utils.data import Dataset, DataLoader\n",
    "import wandb\n",
    "\n",
    "# 데이터셋 정의\n",
    "class PatternDataset(Dataset):\n",
    "    def __init__(self, num_samples=1000, sequence_length=4, max_num=10):\n",
    "        self.data = []\n",
    "        self.targets = []\n",
    "        for _ in range(num_samples):\n",
    "            start = torch.randint(0, max_num, (1,)).item()  # 시작 숫자\n",
    "            diff = torch.randint(1, 5, (1,)).item()  # 등차\n",
    "            sequence = [start + i * diff for i in range(sequence_length)]\n",
    "            next_value = sequence[-1] + diff  # 다음에 올 숫자\n",
    "            \n",
    "            # 입력 시퀀스는 정수로 이루어진 시퀀스, 타겟은 다음에 올 숫자\n",
    "            self.data.append(torch.tensor(sequence))\n",
    "            self.targets.append(next_value)\n",
    "    \n",
    "    def __len__(self):\n",
    "        return len(self.data)\n",
    "\n",
    "    def __getitem__(self, idx):\n",
    "        return self.data[idx], self.targets[idx]\n",
    "\n",
    "# 하이퍼파라미터 설정\n",
    "src_vocab_size = 100\n",
    "tgt_vocab_size = 200\n",
    "d_model = 32\n",
    "n_heads = 4\n",
    "d_ff = 64\n",
    "num_encoder_layers = 6\n",
    "num_decoder_layers = 6\n",
    "dropout = 0.1\n",
    "batch_size = 32\n",
    "num_epochs = 50\n",
    "learning_rate = 0.0001\n",
    "\n",
    "# WandB 초기화\n",
    "#TODO\n",
    "# https://wandb.ai/authorize (API Key 확인하는 웹사이트)\n",
    "wandb.init(project=\"transformer\", config={\n",
    "    \"src_vocab_size\": src_vocab_size,\n",
    "    \"tgt_vocab_size\": tgt_vocab_size,\n",
    "    \"d_model\": d_model,\n",
    "    \"n_heads\": n_heads,\n",
    "    \"d_ff\": d_ff,\n",
    "    \"num_encoder_layers\": num_encoder_layers,\n",
    "    \"num_decoder_layers\": num_decoder_layers,\n",
    "    \"dropout\": dropout,\n",
    "    \"batch_size\": batch_size,\n",
    "    \"num_epochs\": num_epochs,\n",
    "    \"learning_rate\": learning_rate,\n",
    "})\n",
    "\n",
    "# 데이터셋 및 데이터로더 생성\n",
    "dataset = PatternDataset(num_samples=1000)\n",
    "dataloader = DataLoader(dataset, batch_size=batch_size, shuffle=True)\n",
    "\n",
    "# 모델 초기화 (Transformer 모델이 별도로 정의되어 있어야 합니다)\n",
    "model = Transformer(src_vocab_size, tgt_vocab_size, d_model, n_heads, d_ff, num_encoder_layers, num_decoder_layers, dropout)\n",
    "\n",
    "# 손실 함수 및 최적화 도구 정의\n",
    "criterion = nn.CrossEntropyLoss()\n",
    "optimizer = optim.Adam(model.parameters(), lr=learning_rate)\n",
    "\n",
    "# 학습 루프\n",
    "\n",
    "def train():\n",
    "    for epoch in range(num_epochs):\n",
    "        model.train()\n",
    "        total_loss = 0\n",
    "\n",
    "        for src, tgt in dataloader:\n",
    "            # 예측 시작을 위한 빈 타겟 시퀀스 준비\n",
    "            tgt_input = torch.zeros_like(tgt).unsqueeze(1)\n",
    "            tgt = tgt.unsqueeze(1)\n",
    "            \n",
    "            optimizer.zero_grad()\n",
    "            output = model(src, tgt_input)\n",
    "            \n",
    "            # 출력 크기 조정 및 손실 계산\n",
    "            output = output.view(-1, tgt_vocab_size)\n",
    "            tgt = tgt.view(-1)\n",
    "            \n",
    "            loss = criterion(output, tgt)\n",
    "            loss.backward()\n",
    "            optimizer.step()\n",
    "\n",
    "            total_loss += loss.item()\n",
    "        \n",
    "        avg_loss = total_loss / len(dataloader)\n",
    "        print(f\"Epoch {epoch+1}/{num_epochs}, Loss: {avg_loss:.4f}\")\n",
    "        \n",
    "        # WandB에 손실값 로깅\n",
    "        wandb.log({\"epoch\": epoch+1, \"loss\": avg_loss})\n",
    "\n",
    "train()\n"
   ]
  },
  {
   "cell_type": "code",
   "execution_count": null,
   "metadata": {},
   "outputs": [],
   "source": [
    "# 테스트 데이터셋 생성 (학습 데이터와 동일한 방식으로 생성)\n",
    "test_dataset = PatternDataset(num_samples=1000)  # 테스트용 샘플 수\n",
    "test_dataloader = DataLoader(test_dataset, batch_size=batch_size, shuffle=False)\n",
    "\n",
    "def test_model(model, dataloader):\n",
    "    model.eval()  # 평가 모드로 설정\n",
    "    total_correct = 0\n",
    "    total_samples = 0\n",
    "\n",
    "    with torch.no_grad():  # 그래디언트 계산 중지 (평가 시에는 필요하지 않음)\n",
    "        for src, tgt in dataloader:\n",
    "            # 입력 시퀀스 준비\n",
    "            tgt_input = torch.zeros_like(tgt).unsqueeze(1)  # 예측 시작을 위한 빈 타겟 시퀀스\n",
    "            tgt = tgt.unsqueeze(1)  # 타겟을 2D 텐서로 변환\n",
    "            \n",
    "            # 모델에 입력 시퀀스를 전달하고 예측 값 생성\n",
    "            output = model(src, tgt_input)\n",
    "            predicted = output.argmax(dim=-1)  # 예측 결과는 argmax를 통해 얻음\n",
    "            \n",
    "            # 실제 타겟과 예측값 비교\n",
    "            correct = (predicted.view(-1) == tgt.view(-1)).sum().item()\n",
    "            total_correct += correct\n",
    "            total_samples += tgt.size(0)\n",
    "\n",
    "    # 정확도 계산\n",
    "    accuracy = total_correct / total_samples * 100\n",
    "    print(f\"Test Accuracy: {accuracy:.2f}%\")\n",
    "    \n",
    "    # WandB에 테스트 정확도 로깅\n",
    "    wandb.log({\"test_accuracy\": accuracy})\n",
    "    wandb.run.summary[\"test_accuracy\"] = accuracy\n",
    "\n",
    "# 학습된 모델 테스트\n",
    "test_model(model, test_dataloader)\n"
   ]
  },
  {
   "cell_type": "markdown",
   "metadata": {},
   "source": [
    "Wandb Sweep 사용해보기!"
   ]
  },
  {
   "cell_type": "code",
   "execution_count": null,
   "metadata": {},
   "outputs": [],
   "source": [
    "sweep_config = {\n",
    "    \"method\": \"grid\",  # \"random\", \"bayes\", \"grid\" 등 사용 가능\n",
    "    \"metric\": {\n",
    "        \"name\": \"loss\",\n",
    "        \"goal\": \"minimize\"\n",
    "    },\n",
    "    \"parameters\": {\n",
    "        \"learning_rate\": {\n",
    "            \"values\": [0.0001, 0.0005, 0.001]\n",
    "        },\n",
    "        \"batch_size\": {\n",
    "            \"values\": [16, 32, 64]\n",
    "        },\n",
    "        \"d_model\": {\n",
    "            \"values\": [32, 64]\n",
    "        }\n",
    "    }\n",
    "}\n",
    "\n",
    "# Sweep 등록 (프로젝트 이름은 wandb.init에서 사용한 것과 동일해야 함)\n",
    "sweep_id = wandb.sweep(sweep_config, project=\"transformer\")\n",
    "# 지정한 횟수만큼 에이전트를 실행 (count를 조절하여 실험 횟수를 늘릴 수 있습니다)\n",
    "wandb.agent(sweep_id, function=train, count=10)"
   ]
  }
 ],
 "metadata": {
  "kernelspec": {
   "display_name": "base",
   "language": "python",
   "name": "python3"
  },
  "language_info": {
   "codemirror_mode": {
    "name": "ipython",
    "version": 3
   },
   "file_extension": ".py",
   "mimetype": "text/x-python",
   "name": "python",
   "nbconvert_exporter": "python",
   "pygments_lexer": "ipython3",
   "version": "3.12.7"
  }
 },
 "nbformat": 4,
 "nbformat_minor": 2
}
